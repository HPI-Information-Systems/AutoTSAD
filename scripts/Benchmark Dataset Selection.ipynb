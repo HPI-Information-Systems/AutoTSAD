{
 "cells": [
  {
   "cell_type": "markdown",
   "metadata": {},
   "source": [
    "# Benchmark dataset selection process\n",
    "\n",
    "We sample ~100 time series from all available benchmark dataset, while trying to include time series from any collection.\n",
    "For some dataset collections, we do not yet have the algorithm's results, so we randomly sample some unprocessed datasets, run TimeEval, and then include them into the overall selection process.\n",
    "\n",
    "Process:\n",
    "\n",
    "1. Sample 20 random time series from the unprocessed collections `TSB-UAD-synthetic` and `TSB-UAD-artificial`.\n",
    "2. Evaluate all algorithms on those 40 datasets using TimeEval.\n",
    "3. Add the 40 newly processed datasets to our set of candidate datasets.\n",
    "4. Filter candidate datasets to fit the AutoTSAD constraints:\n",
    "    - univariate time series\n",
    "    - at least one anomaly\n",
    "    - contamination <= 0.1\n",
    "    - only datasets that could be solved by at least one algorithm with a quality > 0.6\n",
    "5. Time series sampling per remaining dataset collection\n"
   ]
  },
  {
   "cell_type": "code",
   "execution_count": 2,
   "metadata": {
    "ExecuteTime": {
     "end_time": "2023-09-01T11:41:19.456833394Z",
     "start_time": "2023-09-01T11:41:18.991466430Z"
    }
   },
   "outputs": [],
   "source": [
    "import matplotlib.pyplot as plt\n",
    "import pandas as pd\n",
    "import numpy as np\n",
    "from pathlib import Path\n",
    "\n",
    "benchmark_data_path = Path(\"timeeval-datasets.csv\")\n",
    "gutentag_data_path = Path(\"gutentag-datasets.csv\")\n",
    "timeeval_results_path = Path(\"timeeval-results.csv\")\n",
    "tsbuad_results_path = Path(\"timeeval-results-tsb-uad.csv\")\n",
    "additional_results_path = Path(\"timeeval-results-iops-norma.csv\")\n",
    "metric_name = \"RANGE_PR_AUC\"\n",
    "SEED = 42\n",
    "contamination_threshold = 0.1\n",
    "quality_threshold = 0.6\n"
   ]
  },
  {
   "cell_type": "code",
   "execution_count": 3,
   "metadata": {
    "ExecuteTime": {
     "end_time": "2023-09-01T11:41:20.017898877Z",
     "start_time": "2023-09-01T11:41:19.498530999Z"
    }
   },
   "outputs": [],
   "source": [
    "df_datasets = pd.read_csv(benchmark_data_path)\n",
    "df_gutentag = pd.read_csv(gutentag_data_path)\n",
    "df_gutentag[\"collection_name\"] = \"GutenTAG\"\n",
    "df_gutentag = df_gutentag[df_gutentag[\"train_type\"] == \"unsupervised\"]\n",
    "df_gutentag[\"dataset_name\"] = df_gutentag[\"dataset_name\"].str.split(\".\").str[0]\n",
    "df_gutentag = df_gutentag.drop_duplicates()\n",
    "df_datasets = pd.concat([df_datasets, df_gutentag], ignore_index=True)\n",
    "df_datasets = df_datasets[~df_datasets[\"collection_name\"].isin([\"Keogh\", \"multivariate-anomaly-test-cases\"])]\n",
    "df_datasets = df_datasets.sort_values([\"collection_name\", \"dataset_name\"]).reset_index()\n",
    "df_results = pd.read_csv(timeeval_results_path)\n",
    "df_results_tsbuad = pd.read_csv(tsbuad_results_path)\n"
   ]
  },
  {
   "cell_type": "code",
   "execution_count": 4,
   "metadata": {
    "ExecuteTime": {
     "end_time": "2023-09-01T11:41:20.305185325Z",
     "start_time": "2023-09-01T11:41:20.024104058Z"
    }
   },
   "outputs": [
    {
     "data": {
      "text/plain": "      collection                                            dataset algorithm  \\\n0       GutenTAG                                cbf-combined-diff-1     ARIMA   \n1       GutenTAG                                cbf-combined-diff-3     ARIMA   \n2       GutenTAG                                   cbf-diff-count-1     ARIMA   \n3       GutenTAG                                   cbf-diff-count-3     ARIMA   \n4       GutenTAG                                   cbf-diff-count-4     ARIMA   \n...          ...                                                ...       ...   \n47113      NormA  SinusRW_Length_116000_AnomalyL_200_AnomalyN_80...    VALMOD   \n47114      NormA  SinusRW_Length_120000_AnomalyL_200_AnomalyN_10...    VALMOD   \n47115      NormA  SinusRW_Length_124000_AnomalyL_400_AnomalyN_60...    VALMOD   \n47116      NormA  SinusRW_Length_148000_AnomalyL_800_AnomalyN_60...    VALMOD   \n47117      NormA  SinusRW_Length_196000_AnomalyL_1600_AnomalyN_6...    VALMOD   \n\n                                            hyper_params  \\\n0      {\"differencing_degree\": 1, \"distance_metric\": ...   \n1      {\"differencing_degree\": 1, \"distance_metric\": ...   \n2      {\"differencing_degree\": 1, \"distance_metric\": ...   \n3      {\"differencing_degree\": 1, \"distance_metric\": ...   \n4      {\"differencing_degree\": 1, \"distance_metric\": ...   \n...                                                  ...   \n47113                                                NaN   \n47114                                                NaN   \n47115                                                NaN   \n47116                                                NaN   \n47117                                                NaN   \n\n                        hyper_params_id algo_training_type  \\\n0      c65230762e5361a11b4faac7164f95bf       UNSUPERVISED   \n1      c65230762e5361a11b4faac7164f95bf       UNSUPERVISED   \n2      c65230762e5361a11b4faac7164f95bf       UNSUPERVISED   \n3      c65230762e5361a11b4faac7164f95bf       UNSUPERVISED   \n4      c65230762e5361a11b4faac7164f95bf       UNSUPERVISED   \n...                                 ...                ...   \n47113  f74fae266c1a6921831b154bf3f27c7f                NaN   \n47114  f74fae266c1a6921831b154bf3f27c7f                NaN   \n47115  f74fae266c1a6921831b154bf3f27c7f                NaN   \n47116  f74fae266c1a6921831b154bf3f27c7f                NaN   \n47117  f74fae266c1a6921831b154bf3f27c7f                NaN   \n\n      algo_input_dimensionality dataset_training_type  \\\n0                    UNIVARIATE          UNSUPERVISED   \n1                    UNIVARIATE          UNSUPERVISED   \n2                    UNIVARIATE          UNSUPERVISED   \n3                    UNIVARIATE          UNSUPERVISED   \n4                    UNIVARIATE          UNSUPERVISED   \n...                         ...                   ...   \n47113                       NaN                   NaN   \n47114                       NaN                   NaN   \n47115                       NaN                   NaN   \n47116                       NaN                   NaN   \n47117                       NaN                   NaN   \n\n      dataset_input_dimensionality  train_preprocess_time  ...   ROC_AUC  \\\n0                       UNIVARIATE                    NaN  ...  0.815319   \n1                       UNIVARIATE                    NaN  ...  0.955978   \n2                       UNIVARIATE                    NaN  ...  0.439091   \n3                       UNIVARIATE                    NaN  ...  0.868527   \n4                       UNIVARIATE                    NaN  ...  0.626002   \n...                            ...                    ...  ...       ...   \n47113                          NaN                    NaN  ...       NaN   \n47114                          NaN                    NaN  ...       NaN   \n47115                          NaN                    NaN  ...       NaN   \n47116                          NaN                    NaN  ...       NaN   \n47117                          NaN                    NaN  ...       NaN   \n\n         PR_AUC  RANGE_PR_AUC  AVERAGE_PRECISION overall_time error_category  \\\n0      0.465248      0.453215           0.454742    71.414111         - OK -   \n1      0.127965      0.136431           0.241877   129.666755         - OK -   \n2      0.008516      0.016521           0.014368    72.992341         - OK -   \n3      0.090548      0.053913           0.129214    75.303179         - OK -   \n4      0.054644      0.034841           0.082363   183.925331         - OK -   \n...         ...           ...                ...          ...            ...   \n47113       NaN           NaN                NaN     0.000000        - OOM -   \n47114       NaN           NaN                NaN     0.000000        - OOM -   \n47115       NaN           NaN                NaN     0.000000        - OOM -   \n47116       NaN           NaN                NaN     0.000000        - OOM -   \n47117       NaN           NaN                NaN     0.000000    - TIMEOUT -   \n\n       algo_family                              algo_area  algo_display_name  \\\n0      forecasting  Statistics (Regression & Forecasting)              ARIMA   \n1      forecasting  Statistics (Regression & Forecasting)              ARIMA   \n2      forecasting  Statistics (Regression & Forecasting)              ARIMA   \n3      forecasting  Statistics (Regression & Forecasting)              ARIMA   \n4      forecasting  Statistics (Regression & Forecasting)              ARIMA   \n...            ...                                    ...                ...   \n47113          NaN                                    NaN                NaN   \n47114          NaN                                    NaN                NaN   \n47115          NaN                                    NaN                NaN   \n47116          NaN                                    NaN                NaN   \n47117          NaN                                    NaN                NaN   \n\n       RANGE_ROC_AUC  \n0                NaN  \n1                NaN  \n2                NaN  \n3                NaN  \n4                NaN  \n...              ...  \n47113            NaN  \n47114            NaN  \n47115            NaN  \n47116            NaN  \n47117            NaN  \n\n[47118 rows x 27 columns]",
      "text/html": "<div>\n<style scoped>\n    .dataframe tbody tr th:only-of-type {\n        vertical-align: middle;\n    }\n\n    .dataframe tbody tr th {\n        vertical-align: top;\n    }\n\n    .dataframe thead th {\n        text-align: right;\n    }\n</style>\n<table border=\"1\" class=\"dataframe\">\n  <thead>\n    <tr style=\"text-align: right;\">\n      <th></th>\n      <th>collection</th>\n      <th>dataset</th>\n      <th>algorithm</th>\n      <th>hyper_params</th>\n      <th>hyper_params_id</th>\n      <th>algo_training_type</th>\n      <th>algo_input_dimensionality</th>\n      <th>dataset_training_type</th>\n      <th>dataset_input_dimensionality</th>\n      <th>train_preprocess_time</th>\n      <th>...</th>\n      <th>ROC_AUC</th>\n      <th>PR_AUC</th>\n      <th>RANGE_PR_AUC</th>\n      <th>AVERAGE_PRECISION</th>\n      <th>overall_time</th>\n      <th>error_category</th>\n      <th>algo_family</th>\n      <th>algo_area</th>\n      <th>algo_display_name</th>\n      <th>RANGE_ROC_AUC</th>\n    </tr>\n  </thead>\n  <tbody>\n    <tr>\n      <th>0</th>\n      <td>GutenTAG</td>\n      <td>cbf-combined-diff-1</td>\n      <td>ARIMA</td>\n      <td>{\"differencing_degree\": 1, \"distance_metric\": ...</td>\n      <td>c65230762e5361a11b4faac7164f95bf</td>\n      <td>UNSUPERVISED</td>\n      <td>UNIVARIATE</td>\n      <td>UNSUPERVISED</td>\n      <td>UNIVARIATE</td>\n      <td>NaN</td>\n      <td>...</td>\n      <td>0.815319</td>\n      <td>0.465248</td>\n      <td>0.453215</td>\n      <td>0.454742</td>\n      <td>71.414111</td>\n      <td>- OK -</td>\n      <td>forecasting</td>\n      <td>Statistics (Regression &amp; Forecasting)</td>\n      <td>ARIMA</td>\n      <td>NaN</td>\n    </tr>\n    <tr>\n      <th>1</th>\n      <td>GutenTAG</td>\n      <td>cbf-combined-diff-3</td>\n      <td>ARIMA</td>\n      <td>{\"differencing_degree\": 1, \"distance_metric\": ...</td>\n      <td>c65230762e5361a11b4faac7164f95bf</td>\n      <td>UNSUPERVISED</td>\n      <td>UNIVARIATE</td>\n      <td>UNSUPERVISED</td>\n      <td>UNIVARIATE</td>\n      <td>NaN</td>\n      <td>...</td>\n      <td>0.955978</td>\n      <td>0.127965</td>\n      <td>0.136431</td>\n      <td>0.241877</td>\n      <td>129.666755</td>\n      <td>- OK -</td>\n      <td>forecasting</td>\n      <td>Statistics (Regression &amp; Forecasting)</td>\n      <td>ARIMA</td>\n      <td>NaN</td>\n    </tr>\n    <tr>\n      <th>2</th>\n      <td>GutenTAG</td>\n      <td>cbf-diff-count-1</td>\n      <td>ARIMA</td>\n      <td>{\"differencing_degree\": 1, \"distance_metric\": ...</td>\n      <td>c65230762e5361a11b4faac7164f95bf</td>\n      <td>UNSUPERVISED</td>\n      <td>UNIVARIATE</td>\n      <td>UNSUPERVISED</td>\n      <td>UNIVARIATE</td>\n      <td>NaN</td>\n      <td>...</td>\n      <td>0.439091</td>\n      <td>0.008516</td>\n      <td>0.016521</td>\n      <td>0.014368</td>\n      <td>72.992341</td>\n      <td>- OK -</td>\n      <td>forecasting</td>\n      <td>Statistics (Regression &amp; Forecasting)</td>\n      <td>ARIMA</td>\n      <td>NaN</td>\n    </tr>\n    <tr>\n      <th>3</th>\n      <td>GutenTAG</td>\n      <td>cbf-diff-count-3</td>\n      <td>ARIMA</td>\n      <td>{\"differencing_degree\": 1, \"distance_metric\": ...</td>\n      <td>c65230762e5361a11b4faac7164f95bf</td>\n      <td>UNSUPERVISED</td>\n      <td>UNIVARIATE</td>\n      <td>UNSUPERVISED</td>\n      <td>UNIVARIATE</td>\n      <td>NaN</td>\n      <td>...</td>\n      <td>0.868527</td>\n      <td>0.090548</td>\n      <td>0.053913</td>\n      <td>0.129214</td>\n      <td>75.303179</td>\n      <td>- OK -</td>\n      <td>forecasting</td>\n      <td>Statistics (Regression &amp; Forecasting)</td>\n      <td>ARIMA</td>\n      <td>NaN</td>\n    </tr>\n    <tr>\n      <th>4</th>\n      <td>GutenTAG</td>\n      <td>cbf-diff-count-4</td>\n      <td>ARIMA</td>\n      <td>{\"differencing_degree\": 1, \"distance_metric\": ...</td>\n      <td>c65230762e5361a11b4faac7164f95bf</td>\n      <td>UNSUPERVISED</td>\n      <td>UNIVARIATE</td>\n      <td>UNSUPERVISED</td>\n      <td>UNIVARIATE</td>\n      <td>NaN</td>\n      <td>...</td>\n      <td>0.626002</td>\n      <td>0.054644</td>\n      <td>0.034841</td>\n      <td>0.082363</td>\n      <td>183.925331</td>\n      <td>- OK -</td>\n      <td>forecasting</td>\n      <td>Statistics (Regression &amp; Forecasting)</td>\n      <td>ARIMA</td>\n      <td>NaN</td>\n    </tr>\n    <tr>\n      <th>...</th>\n      <td>...</td>\n      <td>...</td>\n      <td>...</td>\n      <td>...</td>\n      <td>...</td>\n      <td>...</td>\n      <td>...</td>\n      <td>...</td>\n      <td>...</td>\n      <td>...</td>\n      <td>...</td>\n      <td>...</td>\n      <td>...</td>\n      <td>...</td>\n      <td>...</td>\n      <td>...</td>\n      <td>...</td>\n      <td>...</td>\n      <td>...</td>\n      <td>...</td>\n      <td>...</td>\n    </tr>\n    <tr>\n      <th>47113</th>\n      <td>NormA</td>\n      <td>SinusRW_Length_116000_AnomalyL_200_AnomalyN_80...</td>\n      <td>VALMOD</td>\n      <td>NaN</td>\n      <td>f74fae266c1a6921831b154bf3f27c7f</td>\n      <td>NaN</td>\n      <td>NaN</td>\n      <td>NaN</td>\n      <td>NaN</td>\n      <td>NaN</td>\n      <td>...</td>\n      <td>NaN</td>\n      <td>NaN</td>\n      <td>NaN</td>\n      <td>NaN</td>\n      <td>0.000000</td>\n      <td>- OOM -</td>\n      <td>NaN</td>\n      <td>NaN</td>\n      <td>NaN</td>\n      <td>NaN</td>\n    </tr>\n    <tr>\n      <th>47114</th>\n      <td>NormA</td>\n      <td>SinusRW_Length_120000_AnomalyL_200_AnomalyN_10...</td>\n      <td>VALMOD</td>\n      <td>NaN</td>\n      <td>f74fae266c1a6921831b154bf3f27c7f</td>\n      <td>NaN</td>\n      <td>NaN</td>\n      <td>NaN</td>\n      <td>NaN</td>\n      <td>NaN</td>\n      <td>...</td>\n      <td>NaN</td>\n      <td>NaN</td>\n      <td>NaN</td>\n      <td>NaN</td>\n      <td>0.000000</td>\n      <td>- OOM -</td>\n      <td>NaN</td>\n      <td>NaN</td>\n      <td>NaN</td>\n      <td>NaN</td>\n    </tr>\n    <tr>\n      <th>47115</th>\n      <td>NormA</td>\n      <td>SinusRW_Length_124000_AnomalyL_400_AnomalyN_60...</td>\n      <td>VALMOD</td>\n      <td>NaN</td>\n      <td>f74fae266c1a6921831b154bf3f27c7f</td>\n      <td>NaN</td>\n      <td>NaN</td>\n      <td>NaN</td>\n      <td>NaN</td>\n      <td>NaN</td>\n      <td>...</td>\n      <td>NaN</td>\n      <td>NaN</td>\n      <td>NaN</td>\n      <td>NaN</td>\n      <td>0.000000</td>\n      <td>- OOM -</td>\n      <td>NaN</td>\n      <td>NaN</td>\n      <td>NaN</td>\n      <td>NaN</td>\n    </tr>\n    <tr>\n      <th>47116</th>\n      <td>NormA</td>\n      <td>SinusRW_Length_148000_AnomalyL_800_AnomalyN_60...</td>\n      <td>VALMOD</td>\n      <td>NaN</td>\n      <td>f74fae266c1a6921831b154bf3f27c7f</td>\n      <td>NaN</td>\n      <td>NaN</td>\n      <td>NaN</td>\n      <td>NaN</td>\n      <td>NaN</td>\n      <td>...</td>\n      <td>NaN</td>\n      <td>NaN</td>\n      <td>NaN</td>\n      <td>NaN</td>\n      <td>0.000000</td>\n      <td>- OOM -</td>\n      <td>NaN</td>\n      <td>NaN</td>\n      <td>NaN</td>\n      <td>NaN</td>\n    </tr>\n    <tr>\n      <th>47117</th>\n      <td>NormA</td>\n      <td>SinusRW_Length_196000_AnomalyL_1600_AnomalyN_6...</td>\n      <td>VALMOD</td>\n      <td>NaN</td>\n      <td>f74fae266c1a6921831b154bf3f27c7f</td>\n      <td>NaN</td>\n      <td>NaN</td>\n      <td>NaN</td>\n      <td>NaN</td>\n      <td>NaN</td>\n      <td>...</td>\n      <td>NaN</td>\n      <td>NaN</td>\n      <td>NaN</td>\n      <td>NaN</td>\n      <td>0.000000</td>\n      <td>- TIMEOUT -</td>\n      <td>NaN</td>\n      <td>NaN</td>\n      <td>NaN</td>\n      <td>NaN</td>\n    </tr>\n  </tbody>\n</table>\n<p>47118 rows × 27 columns</p>\n</div>"
     },
     "execution_count": 4,
     "metadata": {},
     "output_type": "execute_result"
    }
   ],
   "source": [
    "# merge results on IOPS and NormA back in\n",
    "index_cols = [\"collection\", \"dataset\", \"algorithm\", \"hyper_params\", \"hyper_params_id\"]\n",
    "merge_cols = [\"train_preprocess_time\", \"train_main_time\", \"execute_preprocess_time\", \"execute_main_time\",\n",
    "               \"execute_postprocess_time\", \"overall_time\", \"status\", \"error_message\", \"error_category\", \"RANGE_ROC_AUC\", \"RANGE_PR_AUC\", \"ROC_AUC\",\n",
    "               \"PR_AUC\"]\n",
    "\n",
    "df_tmp = df_results.copy()\n",
    "df_tmp = df_tmp.set_index(index_cols)\n",
    "\n",
    "df_new = pd.read_csv(additional_results_path)\n",
    "df_new = df_new.set_index(index_cols)\n",
    "df_new[\"error_category\"] = \"other\"\n",
    "df_new.loc[df_new[\"status\"] == \"Status.OK\", \"error_category\"] = \"- OK -\"\n",
    "df_new.loc[df_new[\"status\"] == \"Status.TIMEOUT\", \"error_category\"] = \"- TIMEOUT -\"\n",
    "df_new.loc[df_new[\"status\"] == \"Status.OOM\", \"error_category\"] = \"- OOM -\"\n",
    "df_new[\"overall_time\"] = df_new[\"execute_main_time\"].fillna(0) + df_new[\"train_main_time\"].fillna(0)\n",
    "df_new = df_new[merge_cols]\n",
    "df_new.sort_index()\n",
    "\n",
    "new_entries = []\n",
    "for i, entry in df_new.iterrows():\n",
    "    if i in df_results.index:\n",
    "        status = df_tmp.loc[i, \"status\"]\n",
    "        if status == \"Status.OK\":\n",
    "            continue\n",
    "\n",
    "        if (status == \"Status.ERROR\"\n",
    "            and entry[\"status\"] in (\"Status.TIMEOUT\", \"Status.OOM\")) or (entry[\"status\"] == \"Status.OK\"):\n",
    "            print(f\"Updating {i}: {status} --> {entry['status']}\")\n",
    "            df_tmp.loc[i, merge_cols] = entry[merge_cols]\n",
    "\n",
    "    else:\n",
    "        new_entries.append(entry)\n",
    "\n",
    "df_tmp = pd.concat([df_tmp, pd.DataFrame(new_entries)])\n",
    "df_results = df_tmp.reset_index()\n",
    "df_results"
   ]
  },
  {
   "cell_type": "code",
   "execution_count": 5,
   "metadata": {
    "ExecuteTime": {
     "end_time": "2023-09-01T11:41:20.313269671Z",
     "start_time": "2023-09-01T11:41:20.305903211Z"
    }
   },
   "outputs": [],
   "source": [
    "def apply_simple_constraints(df: pd.DataFrame) -> pd.DataFrame:\n",
    "    df = df[df[\"input_type\"] == \"univariate\"]\n",
    "    df = df[df[\"num_anomalies\"] > 0]\n",
    "    df = df[df[\"contamination\"] <= contamination_threshold]\n",
    "    return df"
   ]
  },
  {
   "cell_type": "markdown",
   "metadata": {},
   "source": [
    "### Sample TSB-UAD datasets"
   ]
  },
  {
   "cell_type": "code",
   "execution_count": 6,
   "metadata": {
    "ExecuteTime": {
     "end_time": "2023-09-01T11:41:20.362598163Z",
     "start_time": "2023-09-01T11:41:20.312931540Z"
    }
   },
   "outputs": [
    {
     "data": {
      "text/plain": "[('TSB-UAD-synthetic', 'YAHOO_flat_region_0.02-Yahoo_A2synthetic_41_data'),\n ('TSB-UAD-synthetic',\n  'YAHOO_change_segment_resampling_0.04-Yahoo_A2synthetic_32_data'),\n ('TSB-UAD-synthetic',\n  'KDD21_flip_segment_0.02-210_UCR_Anomaly_Italianpowerdemand_36123_74900_74996'),\n ('TSB-UAD-synthetic', 'YAHOO_flip_segment_0.08-YahooA4Benchmark-TS55_data'),\n ('TSB-UAD-synthetic', 'YAHOO_flat_region_0.08-YahooA4Benchmark-TS33_data'),\n ('TSB-UAD-synthetic', 'YAHOO_flat_region_0.02-Yahoo_A1real_14_data'),\n ('TSB-UAD-synthetic',\n  'KDD21_flat_region_0.02-104_UCR_Anomaly_NOISEapneaecg4_6000_16000_16100'),\n ('TSB-UAD-synthetic',\n  'KDD21_change_segment_resampling_0.02-033_UCR_Anomaly_DISTORTEDInternalBleeding5_4000_6200_6370'),\n ('TSB-UAD-synthetic',\n  'YAHOO_change_segment_resampling_0.02-YahooA3Benchmark-TS84_data'),\n ('TSB-UAD-synthetic',\n  'YAHOO_change_segment_add_scale_0.02-YahooA3Benchmark-TS22_data'),\n ('TSB-UAD-synthetic',\n  'YAHOO_add_random_walk_trend_0.2-YahooA3Benchmark-TS75_data'),\n ('TSB-UAD-synthetic',\n  'KDD21_change_segment_resampling_0.02-006_UCR_Anomaly_DISTORTEDCIMIS44AirTemperature2_4000_5703_5727'),\n ('TSB-UAD-synthetic', 'YAHOO_add_random_walk_trend_0.2-Yahoo_A1real_32_data'),\n ('TSB-UAD-synthetic', 'YAHOO_flat_region_0.08-Yahoo_A2synthetic_1_data'),\n ('TSB-UAD-synthetic',\n  'KDD21_change_segment_resampling_0.02-074_UCR_Anomaly_DISTORTEDqtdbSel1005V_4000_12400_12800'),\n ('TSB-UAD-synthetic',\n  'YAHOO_change_segment_resampling_0.08-Yahoo_A2synthetic_93_data'),\n ('TSB-UAD-synthetic', 'YAHOO_flat_region_0.04-YahooA3Benchmark-TS51_data'),\n ('TSB-UAD-synthetic',\n  'YAHOO_add_random_walk_trend_0.2-YahooA4Benchmark-TS28_data'),\n ('TSB-UAD-synthetic',\n  'YAHOO_change_segment_resampling_0.04-YahooA3Benchmark-TS85_data'),\n ('TSB-UAD-synthetic',\n  'YAHOO_change_segment_add_scale_0.02-YahooA4Benchmark-TS28_data'),\n ('TSB-UAD-artificial', '-61_2_0.02_25'),\n ('TSB-UAD-artificial', '-69_2_0.02_25'),\n ('TSB-UAD-artificial', '-107_2_0.02_11'),\n ('TSB-UAD-artificial', '-86_2_0.02_35'),\n ('TSB-UAD-artificial', '-37_2_0.02_25'),\n ('TSB-UAD-artificial', '-72_2_0.01_5'),\n ('TSB-UAD-artificial', '-63_2_0.02_15'),\n ('TSB-UAD-artificial', '-116_2_0.02_9'),\n ('TSB-UAD-artificial', '-34_2_0.02_15'),\n ('TSB-UAD-artificial', '-11_2_0.02_6'),\n ('TSB-UAD-artificial', '-55_2_0.02_6'),\n ('TSB-UAD-artificial', '-116_2_0.01_5'),\n ('TSB-UAD-artificial', '-6_2_0.02_15'),\n ('TSB-UAD-artificial', '-24_2_0.02_3'),\n ('TSB-UAD-artificial', '-104_2_0.02_35'),\n ('TSB-UAD-artificial', '-40_2_0.02_25'),\n ('TSB-UAD-artificial', '-94_2_0.01_5'),\n ('TSB-UAD-artificial', '-69_2_0.02_15'),\n ('TSB-UAD-artificial', '-48_2_0.02_11'),\n ('TSB-UAD-artificial', '-25_2_0.02_9')]"
     },
     "execution_count": 6,
     "metadata": {},
     "output_type": "execute_result"
    }
   ],
   "source": [
    "# sample 20 random datasets from TSB-UAD-synthetic and TSB-UAD-artificial\n",
    "df_unprocessed = df_datasets[df_datasets[\"collection_name\"].isin([\"TSB-UAD-synthetic\", \"TSB-UAD-artificial\"])]\n",
    "\n",
    "# already filter datasets based on dataset constraints\n",
    "df_unprocessed = apply_simple_constraints(df_unprocessed)\n",
    "\n",
    "df_synthetic = df_unprocessed[df_unprocessed[\"collection_name\"] == \"TSB-UAD-synthetic\"]\n",
    "df_artificial = df_unprocessed[df_unprocessed[\"collection_name\"] == \"TSB-UAD-artificial\"]\n",
    "\n",
    "rng = np.random.default_rng(SEED)\n",
    "df_synthetic = df_synthetic.sample(n=20, replace=False, random_state=rng)\n",
    "df_artificial = df_artificial.sample(n=20, replace=False, random_state=rng)\n",
    "df_unprocessed = pd.concat([df_synthetic, df_artificial], ignore_index=True)\n",
    "\n",
    "# create list of dataset ids for TimeEval\n",
    "dataset_ids = df_unprocessed[[\"collection_name\", \"dataset_name\"]].apply(lambda x: (x[0], x[1]), axis=1).tolist()\n",
    "dataset_ids"
   ]
  },
  {
   "cell_type": "markdown",
   "metadata": {},
   "source": [
    "### Create and filter candidate dataset list"
   ]
  },
  {
   "cell_type": "code",
   "execution_count": 7,
   "metadata": {
    "ExecuteTime": {
     "end_time": "2023-09-01T11:41:20.524939381Z",
     "start_time": "2023-09-01T11:41:20.347891614Z"
    }
   },
   "outputs": [
    {
     "data": {
      "text/plain": "algorithm\nGrammarViz                         68\nFFT                                68\nk-Means                            62\nDBStream                           58\nARIMA                              49\nTriple ES (Holt-Winter's)          48\nDWT-MLEAD                          45\nSTAMP                              41\nMedianMethod                       40\nSubsequence LOF                    39\nPCI                                35\nDSPOT                              34\nSpectral Residual (SR)             32\nTorsk                              30\nVALMOD                             25\nLeft STAMPi                        22\nNormA                              22\nPCC                                21\nHybrid KNN                         19\nHOT SAX                            19\nSAND                               16\nHBOS                               15\nCBLOF                              15\nCOPOD                              15\nSeries2Graph                       14\nSSA                                14\nKNN                                14\nTARZAN                             13\nTelemanom                          13\nSTOMP                              12\nIF-LOF                             11\nS-H-ESD (Twitter)                  11\nNormalizing Flows                  10\nSR-CNN                              9\nImageEmbeddingCAE                   8\nCOF                                 7\nPST                                 7\nDeepAnT                             7\nDonut                               6\nRobustPCA                           6\nPhaseSpace-SVM                      6\nRandom Forest Regressor (RR)        5\nRandom Black Forest (RR)            4\nSubsequence IF                      4\nLSTM-AD                             4\nLOF                                 4\nHybrid Isolation Forest (HIF)       3\nExtended Isolation Forest (EIF)     3\nXGBoosting (RR)                     3\nTSBitmap                            2\nIsolation Forest (iForest)          2\nOmniAnomaly                         1\nOceanWNN                            1\nMultiHMM                            1\nLaserDBN                            1\nName: RANGE_PR_AUC, dtype: int64"
     },
     "execution_count": 7,
     "metadata": {},
     "output_type": "execute_result"
    }
   ],
   "source": [
    "# find best algo per dataset\n",
    "df = pd.concat([df_results, df_results_tsbuad], axis=0, ignore_index=True)\n",
    "df = df.sort_values([\"collection\", \"dataset\", metric_name], ascending=[True, True, False])\n",
    "df = df.groupby([\"collection\", \"dataset\"]).agg({metric_name: \"max\", \"algorithm\": \"first\", \"hyper_params\": \"first\", \"hyper_params_id\": \"first\"})\n",
    "df.groupby(\"algorithm\")[\"RANGE_PR_AUC\"].count().sort_values(ascending=False)"
   ]
  },
  {
   "cell_type": "code",
   "execution_count": 8,
   "metadata": {
    "ExecuteTime": {
     "end_time": "2023-09-01T11:41:20.525628425Z",
     "start_time": "2023-09-01T11:41:20.478480385Z"
    }
   },
   "outputs": [
    {
     "data": {
      "text/plain": "952"
     },
     "execution_count": 8,
     "metadata": {},
     "output_type": "execute_result"
    }
   ],
   "source": [
    "# create list of datasets and apply base filters\n",
    "df_filtered_datasets = apply_simple_constraints(df_datasets)\n",
    "df_filtered_datasets = df_filtered_datasets[df_filtered_datasets[\"collection_name\"] != \"TSB-UAD-synthetic\"]\n",
    "df_filtered_datasets = df_filtered_datasets[df_filtered_datasets[\"collection_name\"] != \"TSB-UAD-artificial\"]\n",
    "df_filtered_datasets = pd.concat([df_filtered_datasets, df_unprocessed], ignore_index=True)\n",
    "df_filtered_datasets.shape[0]"
   ]
  },
  {
   "cell_type": "code",
   "execution_count": 9,
   "metadata": {
    "ExecuteTime": {
     "end_time": "2023-09-01T11:41:20.804191838Z",
     "start_time": "2023-09-01T11:41:20.478776180Z"
    }
   },
   "outputs": [
    {
     "name": "stdout",
     "output_type": "stream",
     "text": [
      "Number of datasets: 952\n",
      "Number of datasets without best algo: 9\n"
     ]
    },
    {
     "data": {
      "text/plain": "<Figure size 640x480 with 1 Axes>",
      "image/png": "[encoded data removed]"
     },
     "metadata": {},
     "output_type": "display_data"
    },
    {
     "name": "stdout",
     "output_type": "stream",
     "text": [
      "Remaining datasets after algorithm quality filtering: 618\n"
     ]
    },
    {
     "data": {
      "text/plain": "collection_name\nWebscopeS5            229\nKDD-TSAD              135\nGutenTAG              133\nNASA-SMAP              31\nNAB                    26\nTSB-UAD-synthetic      20\nNASA-MSL               15\nIOPS                   14\nNormA                   7\nMGAB                    4\nTSB-UAD-artificial      4\nName: dataset_name, dtype: int64"
     },
     "execution_count": 9,
     "metadata": {},
     "output_type": "execute_result"
    }
   ],
   "source": [
    "df_tmp = pd.merge(df_filtered_datasets, df, left_on=[\"collection_name\", \"dataset_name\"], right_on=[\"collection\", \"dataset\"], how=\"left\")\n",
    "df_tmp = df_tmp.rename(columns={\n",
    "    \"algorithm\": \"best_algo\",\n",
    "    \"hyper_params\": \"best_algo_hyper_params\",\n",
    "    \"hyper_params_id\": \"best_algo_hyper_params_id\",\n",
    "    metric_name: \"best_algo_metric\"\n",
    "})\n",
    "print(f\"Number of datasets: {df_tmp.shape[0]}\")\n",
    "print(f\"Number of datasets without best algo: {df_tmp['best_algo_metric'].isna().sum()}\")\n",
    "df_tmp[\"best_algo_metric\"].hist(bins=20)\n",
    "ymin, ymax = plt.gca().get_ylim()\n",
    "plt.vlines(quality_threshold, ymin=ymin, ymax=ymax, colors=\"red\", linestyles=\"dashed\")\n",
    "plt.show()\n",
    "\n",
    "# filter datasets based on best algo metric (exclude not-evaluated datasets)\n",
    "# df_tmp = df_tmp[(df_tmp[\"best_algo_metric\"].isna()) | (df_tmp[\"best_algo_metric\"] > quality_threshold)]\n",
    "df_tmp = df_tmp[df_tmp[\"best_algo_metric\"] > quality_threshold]\n",
    "\n",
    "print(f\"Remaining datasets after algorithm quality filtering: {df_tmp.shape[0]}\")\n",
    "df_candidates = df_tmp\n",
    "df_tmp.groupby(\"collection_name\")[\"dataset_name\"].count().sort_values(ascending=False)\n"
   ]
  },
  {
   "cell_type": "markdown",
   "metadata": {},
   "source": [
    "### Sample datasets per collection\n"
   ]
  },
  {
   "cell_type": "code",
   "execution_count": 10,
   "metadata": {
    "ExecuteTime": {
     "end_time": "2023-09-01T11:41:20.804604016Z",
     "start_time": "2023-09-01T11:41:20.770732774Z"
    }
   },
   "outputs": [
    {
     "data": {
      "text/plain": "collection_name\nGutenTAG              10\nIOPS                  10\nKDD-TSAD              10\nNAB                   10\nNASA-MSL              10\nNASA-SMAP             10\nTSB-UAD-synthetic     10\nWebscopeS5            10\nNormA                  7\nMGAB                   4\nTSB-UAD-artificial     4\nName: dataset_name, dtype: int64"
     },
     "execution_count": 10,
     "metadata": {},
     "output_type": "execute_result"
    }
   ],
   "source": [
    "# sample 10 datasets per collection\n",
    "df_candidates = df_candidates.groupby(\"collection_name\").apply(lambda x: x.sample(n=min(10, x.shape[0]), replace=False, random_state=SEED)).reset_index(drop=True)\n",
    "df_candidates.groupby(\"collection_name\")[\"dataset_name\"].count().sort_values(ascending=False)"
   ]
  },
  {
   "cell_type": "code",
   "execution_count": 11,
   "metadata": {
    "ExecuteTime": {
     "end_time": "2023-09-01T11:41:20.805138418Z",
     "start_time": "2023-09-01T11:41:20.771193227Z"
    }
   },
   "outputs": [
    {
     "data": {
      "text/plain": "[('GutenTAG', 'poly-diff-count-5'),\n ('GutenTAG', 'rw-combined-diff-2'),\n ('GutenTAG', 'ecg-same-count-1'),\n ('GutenTAG', 'ecg-type-pattern-shift'),\n ('GutenTAG', 'sinus-position-middle'),\n ('GutenTAG', 'rw-length-100'),\n ('GutenTAG', 'sinus-type-mean'),\n ('GutenTAG', 'poly-length-500'),\n ('GutenTAG', 'ecg-type-mean'),\n ('GutenTAG', 'ecg-diff-count-1'),\n ('IOPS', 'a8c06b47-cc41-3738-9110-12df0ee4c721'),\n ('IOPS', 'c69a50cf-ee03-3bd7-831e-407d36c7ee91'),\n ('IOPS', '05f10d3a-239c-3bef-9bdc-a2feeb0037aa'),\n ('IOPS', 'f0932edd-6400-3e63-9559-0a9860a1baa9'),\n ('IOPS', '57051487-3a40-3828-9084-a12f7f23ee38'),\n ('IOPS', '847e8ecc-f8d2-3a93-9107-f367a0aab37d'),\n ('IOPS', '431a8542-c468-3988-a508-3afd06a218da'),\n ('IOPS', '1c6d7a26-1f1a-3321-bb4d-7a9d969ec8f0'),\n ('IOPS', 'ffb82d38-5f00-37db-abc0-5d2e4e4cb6aa'),\n ('IOPS', '54350a12-7a9d-3ca8-b81f-f886b9d156fd'),\n ('KDD-TSAD', '152_UCR_Anomaly_PowerDemand1'),\n ('KDD-TSAD', '114_UCR_Anomaly_CIMIS44AirTemperature2'),\n ('KDD-TSAD', '163_UCR_Anomaly_apneaecg2'),\n ('KDD-TSAD', '030_UCR_Anomaly_DISTORTEDInternalBleeding19'),\n ('KDD-TSAD', '070_UCR_Anomaly_DISTORTEDltstdbs30791AI'),\n ('KDD-TSAD', '102_UCR_Anomaly_NOISEMesoplodonDensirostris'),\n ('KDD-TSAD', '022_UCR_Anomaly_DISTORTEDGP711MarkerLFM5z4'),\n ('KDD-TSAD', '174_UCR_Anomaly_insectEPG2'),\n ('KDD-TSAD', '202_UCR_Anomaly_CHARISfive'),\n ('KDD-TSAD', '208_UCR_Anomaly_CHARISten'),\n ('MGAB', '3'),\n ('MGAB', '6'),\n ('MGAB', '2'),\n ('MGAB', '4'),\n ('NAB', 'art_increase_spike_density'),\n ('NAB', 'ec2_network_in_257a54'),\n ('NAB', 'Twitter_volume_AMZN'),\n ('NAB', 'rds_cpu_utilization_e47b3b'),\n ('NAB', 'ec2_cpu_utilization_24ae8d'),\n ('NAB', 'art_load_balancer_spikes'),\n ('NAB', 'ec2_cpu_utilization_5f5533'),\n ('NAB', 'Twitter_volume_CVS'),\n ('NAB', 'rds_cpu_utilization_cc0c53'),\n ('NAB', 'art_daily_jumpsdown'),\n ('NASA-MSL', 'P-15'),\n ('NASA-MSL', 'T-12'),\n ('NASA-MSL', 'C-2'),\n ('NASA-MSL', 'T-5'),\n ('NASA-MSL', 'M-7'),\n ('NASA-MSL', 'P-14'),\n ('NASA-MSL', 'F-5'),\n ('NASA-MSL', 'D-14'),\n ('NASA-MSL', 'T-8'),\n ('NASA-MSL', 'M-6'),\n ('NASA-SMAP', 'P-4'),\n ('NASA-SMAP', 'E-5'),\n ('NASA-SMAP', 'G-3'),\n ('NASA-SMAP', 'E-7'),\n ('NASA-SMAP', 'D-13'),\n ('NASA-SMAP', 'D-5'),\n ('NASA-SMAP', 'S-1'),\n ('NASA-SMAP', 'G-4'),\n ('NASA-SMAP', 'E-1'),\n ('NASA-SMAP', 'A-1'),\n ('NormA', 'Discords_annsgun'),\n ('NormA', 'Discords_dutch_power_demand'),\n ('NormA', 'SinusRW_Length_106000_AnomalyL_100_AnomalyN_60_NoisePerc_0'),\n ('NormA', 'Discords_marotta_valve_tek_14'),\n ('NormA', 'SinusRW_Length_104000_AnomalyL_200_AnomalyN_20_NoisePerc_0'),\n ('NormA', 'Discords_marotta_valve_tek_17'),\n ('NormA', 'SinusRW_Length_108000_AnomalyL_200_AnomalyN_40_NoisePerc_0'),\n ('TSB-UAD-artificial', '-37_2_0.02_25'),\n ('TSB-UAD-artificial', '-69_2_0.02_15'),\n ('TSB-UAD-artificial', '-69_2_0.02_25'),\n ('TSB-UAD-artificial', '-104_2_0.02_35'),\n ('TSB-UAD-synthetic', 'YAHOO_flat_region_0.02-Yahoo_A2synthetic_41_data'),\n ('TSB-UAD-synthetic',\n  'YAHOO_add_random_walk_trend_0.2-YahooA4Benchmark-TS28_data'),\n ('TSB-UAD-synthetic',\n  'YAHOO_change_segment_resampling_0.08-Yahoo_A2synthetic_93_data'),\n ('TSB-UAD-synthetic',\n  'YAHOO_change_segment_resampling_0.04-Yahoo_A2synthetic_32_data'),\n ('TSB-UAD-synthetic',\n  'YAHOO_change_segment_resampling_0.02-YahooA3Benchmark-TS84_data'),\n ('TSB-UAD-synthetic', 'YAHOO_flat_region_0.02-Yahoo_A1real_14_data'),\n ('TSB-UAD-synthetic',\n  'KDD21_change_segment_resampling_0.02-006_UCR_Anomaly_DISTORTEDCIMIS44AirTemperature2_4000_5703_5727'),\n ('TSB-UAD-synthetic', 'YAHOO_flip_segment_0.08-YahooA4Benchmark-TS55_data'),\n ('TSB-UAD-synthetic',\n  'YAHOO_change_segment_resampling_0.04-YahooA3Benchmark-TS85_data'),\n ('TSB-UAD-synthetic', 'YAHOO_flat_region_0.04-YahooA3Benchmark-TS51_data'),\n ('WebscopeS5', 'A4Benchmark-63'),\n ('WebscopeS5', 'A2Benchmark-22'),\n ('WebscopeS5', 'A1Benchmark-2'),\n ('WebscopeS5', 'A4Benchmark-13'),\n ('WebscopeS5', 'A1Benchmark-25'),\n ('WebscopeS5', 'A4Benchmark-34'),\n ('WebscopeS5', 'A1Benchmark-34'),\n ('WebscopeS5', 'A4Benchmark-2'),\n ('WebscopeS5', 'A3Benchmark-54'),\n ('WebscopeS5', 'A3Benchmark-18')]"
     },
     "execution_count": 11,
     "metadata": {},
     "output_type": "execute_result"
    }
   ],
   "source": [
    "benchmark_datasets = df_candidates[[\"collection_name\", \"dataset_name\"]].apply(lambda x: (x[0], x[1]), axis=1).tolist()\n",
    "benchmark_datasets"
   ]
  },
  {
   "cell_type": "code",
   "execution_count": 12,
   "metadata": {
    "scrolled": false,
    "ExecuteTime": {
     "end_time": "2023-09-01T11:41:20.805886177Z",
     "start_time": "2023-09-01T11:41:20.776878783Z"
    }
   },
   "outputs": [
    {
     "data": {
      "text/plain": "   collection_name            dataset_name  best_algo_metric  \\\n0         GutenTAG       poly-diff-count-5          0.679523   \n1         GutenTAG      rw-combined-diff-2          0.913061   \n2         GutenTAG        ecg-same-count-1          0.961786   \n3         GutenTAG  ecg-type-pattern-shift          0.739317   \n4         GutenTAG   sinus-position-middle          0.810469   \n..             ...                     ...               ...   \n90      WebscopeS5          A4Benchmark-34          0.791918   \n91      WebscopeS5          A1Benchmark-34          0.709821   \n92      WebscopeS5           A4Benchmark-2          0.753682   \n93      WebscopeS5          A3Benchmark-54          0.958153   \n94      WebscopeS5          A3Benchmark-18          0.644020   \n\n                       best_algo  \\\n0   Random Forest Regressor (RR)   \n1                   MedianMethod   \n2                      DWT-MLEAD   \n3                          STOMP   \n4                      DWT-MLEAD   \n..                           ...   \n90        Spectral Residual (SR)   \n91                           KNN   \n92     Triple ES (Holt-Winter's)   \n93                           PCI   \n94        Spectral Residual (SR)   \n\n                               best_algo_hyper_params  \\\n0   {\"bootstrap\": true, \"max_features_method\": \"au...   \n1     {\"neighbourhood_size\": 200, \"random_state\": 42}   \n2   {\"quantile_epsilon\": 0.1, \"random_state\": 42, ...   \n3   {\"anomaly_window_size\": 100, \"exclusion_zone\":...   \n4   {\"quantile_epsilon\": 0.1, \"random_state\": 42, ...   \n..                                                ...   \n90  {\"mag_window_size\": 40, \"random_state\": 42, \"s...   \n91  {\"distance_metric_order\": 2, \"leaf_size\": 20, ...   \n92  {\"period\": 12, \"random_state\": 42, \"seasonal\":...   \n93  {\"random_state\": 42, \"thresholding_p\": 0.05, \"...   \n94  {\"mag_window_size\": 40, \"random_state\": 42, \"s...   \n\n           best_algo_hyper_params_id  \n0   d4da0800d72f72731219b3b8f231ef35  \n1   97d45bb36d81d9ee1b506d7c909e33ed  \n2   40813f7d4823570c94e220a39d8b69e0  \n3   b82a31b56d1fb84b25b98ad747790b52  \n4   40813f7d4823570c94e220a39d8b69e0  \n..                               ...  \n90  f61ee363987c8d877a5f9ee8f6d78334  \n91  da57e09e2b4ad4d568a26dd67f170158  \n92  00063ed7014b5e87ab17d3ece2a6326c  \n93  065ce526b23dc55e9fceed01566107ce  \n94  f61ee363987c8d877a5f9ee8f6d78334  \n\n[95 rows x 6 columns]",
      "text/html": "<div>\n<style scoped>\n    .dataframe tbody tr th:only-of-type {\n        vertical-align: middle;\n    }\n\n    .dataframe tbody tr th {\n        vertical-align: top;\n    }\n\n    .dataframe thead th {\n        text-align: right;\n    }\n</style>\n<table border=\"1\" class=\"dataframe\">\n  <thead>\n    <tr style=\"text-align: right;\">\n      <th></th>\n      <th>collection_name</th>\n      <th>dataset_name</th>\n      <th>best_algo_metric</th>\n      <th>best_algo</th>\n      <th>best_algo_hyper_params</th>\n      <th>best_algo_hyper_params_id</th>\n    </tr>\n  </thead>\n  <tbody>\n    <tr>\n      <th>0</th>\n      <td>GutenTAG</td>\n      <td>poly-diff-count-5</td>\n      <td>0.679523</td>\n      <td>Random Forest Regressor (RR)</td>\n      <td>{\"bootstrap\": true, \"max_features_method\": \"au...</td>\n      <td>d4da0800d72f72731219b3b8f231ef35</td>\n    </tr>\n    <tr>\n      <th>1</th>\n      <td>GutenTAG</td>\n      <td>rw-combined-diff-2</td>\n      <td>0.913061</td>\n      <td>MedianMethod</td>\n      <td>{\"neighbourhood_size\": 200, \"random_state\": 42}</td>\n      <td>97d45bb36d81d9ee1b506d7c909e33ed</td>\n    </tr>\n    <tr>\n      <th>2</th>\n      <td>GutenTAG</td>\n      <td>ecg-same-count-1</td>\n      <td>0.961786</td>\n      <td>DWT-MLEAD</td>\n      <td>{\"quantile_epsilon\": 0.1, \"random_state\": 42, ...</td>\n      <td>40813f7d4823570c94e220a39d8b69e0</td>\n    </tr>\n    <tr>\n      <th>3</th>\n      <td>GutenTAG</td>\n      <td>ecg-type-pattern-shift</td>\n      <td>0.739317</td>\n      <td>STOMP</td>\n      <td>{\"anomaly_window_size\": 100, \"exclusion_zone\":...</td>\n      <td>b82a31b56d1fb84b25b98ad747790b52</td>\n    </tr>\n    <tr>\n      <th>4</th>\n      <td>GutenTAG</td>\n      <td>sinus-position-middle</td>\n      <td>0.810469</td>\n      <td>DWT-MLEAD</td>\n      <td>{\"quantile_epsilon\": 0.1, \"random_state\": 42, ...</td>\n      <td>40813f7d4823570c94e220a39d8b69e0</td>\n    </tr>\n    <tr>\n      <th>...</th>\n      <td>...</td>\n      <td>...</td>\n      <td>...</td>\n      <td>...</td>\n      <td>...</td>\n      <td>...</td>\n    </tr>\n    <tr>\n      <th>90</th>\n      <td>WebscopeS5</td>\n      <td>A4Benchmark-34</td>\n      <td>0.791918</td>\n      <td>Spectral Residual (SR)</td>\n      <td>{\"mag_window_size\": 40, \"random_state\": 42, \"s...</td>\n      <td>f61ee363987c8d877a5f9ee8f6d78334</td>\n    </tr>\n    <tr>\n      <th>91</th>\n      <td>WebscopeS5</td>\n      <td>A1Benchmark-34</td>\n      <td>0.709821</td>\n      <td>KNN</td>\n      <td>{\"distance_metric_order\": 2, \"leaf_size\": 20, ...</td>\n      <td>da57e09e2b4ad4d568a26dd67f170158</td>\n    </tr>\n    <tr>\n      <th>92</th>\n      <td>WebscopeS5</td>\n      <td>A4Benchmark-2</td>\n      <td>0.753682</td>\n      <td>Triple ES (Holt-Winter's)</td>\n      <td>{\"period\": 12, \"random_state\": 42, \"seasonal\":...</td>\n      <td>00063ed7014b5e87ab17d3ece2a6326c</td>\n    </tr>\n    <tr>\n      <th>93</th>\n      <td>WebscopeS5</td>\n      <td>A3Benchmark-54</td>\n      <td>0.958153</td>\n      <td>PCI</td>\n      <td>{\"random_state\": 42, \"thresholding_p\": 0.05, \"...</td>\n      <td>065ce526b23dc55e9fceed01566107ce</td>\n    </tr>\n    <tr>\n      <th>94</th>\n      <td>WebscopeS5</td>\n      <td>A3Benchmark-18</td>\n      <td>0.644020</td>\n      <td>Spectral Residual (SR)</td>\n      <td>{\"mag_window_size\": 40, \"random_state\": 42, \"s...</td>\n      <td>f61ee363987c8d877a5f9ee8f6d78334</td>\n    </tr>\n  </tbody>\n</table>\n<p>95 rows × 6 columns</p>\n</div>"
     },
     "execution_count": 12,
     "metadata": {},
     "output_type": "execute_result"
    }
   ],
   "source": [
    "df_candidates[\n",
    "    [\"collection_name\", \"dataset_name\", \"best_algo_metric\", \"best_algo\", \"best_algo_hyper_params\", \"best_algo_hyper_params_id\"]\n",
    "].to_csv(\"autotsad-datasets.csv\", index=False)\n",
    "df_candidates[\n",
    "    [\"collection_name\", \"dataset_name\", \"best_algo_metric\", \"best_algo\", \"best_algo_hyper_params\", \"best_algo_hyper_params_id\"]\n",
    "]"
   ]
  },
  {
   "cell_type": "code",
   "execution_count": 13,
   "metadata": {
    "ExecuteTime": {
     "end_time": "2023-09-01T11:41:20.872641944Z",
     "start_time": "2023-09-01T11:41:20.808351533Z"
    }
   },
   "outputs": [
    {
     "data": {
      "text/plain": "                              dataset_name\nbest_algo                                 \nGrammarViz                              18\nk-Means                                 13\nSTAMP                                    6\nDWT-MLEAD                                5\nHOT SAX                                  4\nSubsequence LOF                          4\nDBStream                                 3\nTorsk                                    3\nSpectral Residual (SR)                   3\nLeft STAMPi                              3\nNormA                                    3\nSSA                                      3\nTARZAN                                   2\nSeries2Graph                             2\nSAND                                     2\nPhaseSpace-SVM                           2\nNormalizing Flows                        2\nHybrid KNN                               2\nFFT                                      2\nPST                                      1\nRandom Forest Regressor (RR)             1\nS-H-ESD (Twitter)                        1\nPCI                                      1\nMedianMethod                             1\nSTOMP                                    1\nLOF                                      1\nKNN                                      1\nSubsequence IF                           1\nDeepAnT                                  1\nTriple ES (Holt-Winter's)                1\nVALMOD                                   1\nCOPOD                                    1",
      "text/html": "<div>\n<style scoped>\n    .dataframe tbody tr th:only-of-type {\n        vertical-align: middle;\n    }\n\n    .dataframe tbody tr th {\n        vertical-align: top;\n    }\n\n    .dataframe thead th {\n        text-align: right;\n    }\n</style>\n<table border=\"1\" class=\"dataframe\">\n  <thead>\n    <tr style=\"text-align: right;\">\n      <th></th>\n      <th>dataset_name</th>\n    </tr>\n    <tr>\n      <th>best_algo</th>\n      <th></th>\n    </tr>\n  </thead>\n  <tbody>\n    <tr>\n      <th>GrammarViz</th>\n      <td>18</td>\n    </tr>\n    <tr>\n      <th>k-Means</th>\n      <td>13</td>\n    </tr>\n    <tr>\n      <th>STAMP</th>\n      <td>6</td>\n    </tr>\n    <tr>\n      <th>DWT-MLEAD</th>\n      <td>5</td>\n    </tr>\n    <tr>\n      <th>HOT SAX</th>\n      <td>4</td>\n    </tr>\n    <tr>\n      <th>Subsequence LOF</th>\n      <td>4</td>\n    </tr>\n    <tr>\n      <th>DBStream</th>\n      <td>3</td>\n    </tr>\n    <tr>\n      <th>Torsk</th>\n      <td>3</td>\n    </tr>\n    <tr>\n      <th>Spectral Residual (SR)</th>\n      <td>3</td>\n    </tr>\n    <tr>\n      <th>Left STAMPi</th>\n      <td>3</td>\n    </tr>\n    <tr>\n      <th>NormA</th>\n      <td>3</td>\n    </tr>\n    <tr>\n      <th>SSA</th>\n      <td>3</td>\n    </tr>\n    <tr>\n      <th>TARZAN</th>\n      <td>2</td>\n    </tr>\n    <tr>\n      <th>Series2Graph</th>\n      <td>2</td>\n    </tr>\n    <tr>\n      <th>SAND</th>\n      <td>2</td>\n    </tr>\n    <tr>\n      <th>PhaseSpace-SVM</th>\n      <td>2</td>\n    </tr>\n    <tr>\n      <th>Normalizing Flows</th>\n      <td>2</td>\n    </tr>\n    <tr>\n      <th>Hybrid KNN</th>\n      <td>2</td>\n    </tr>\n    <tr>\n      <th>FFT</th>\n      <td>2</td>\n    </tr>\n    <tr>\n      <th>PST</th>\n      <td>1</td>\n    </tr>\n    <tr>\n      <th>Random Forest Regressor (RR)</th>\n      <td>1</td>\n    </tr>\n    <tr>\n      <th>S-H-ESD (Twitter)</th>\n      <td>1</td>\n    </tr>\n    <tr>\n      <th>PCI</th>\n      <td>1</td>\n    </tr>\n    <tr>\n      <th>MedianMethod</th>\n      <td>1</td>\n    </tr>\n    <tr>\n      <th>STOMP</th>\n      <td>1</td>\n    </tr>\n    <tr>\n      <th>LOF</th>\n      <td>1</td>\n    </tr>\n    <tr>\n      <th>KNN</th>\n      <td>1</td>\n    </tr>\n    <tr>\n      <th>Subsequence IF</th>\n      <td>1</td>\n    </tr>\n    <tr>\n      <th>DeepAnT</th>\n      <td>1</td>\n    </tr>\n    <tr>\n      <th>Triple ES (Holt-Winter's)</th>\n      <td>1</td>\n    </tr>\n    <tr>\n      <th>VALMOD</th>\n      <td>1</td>\n    </tr>\n    <tr>\n      <th>COPOD</th>\n      <td>1</td>\n    </tr>\n  </tbody>\n</table>\n</div>"
     },
     "execution_count": 13,
     "metadata": {},
     "output_type": "execute_result"
    }
   ],
   "source": [
    "df_candidates.groupby(\"best_algo\")[[\"dataset_name\"]].count().sort_values(\"dataset_name\", ascending=False)"
   ]
  },
  {
   "cell_type": "markdown",
   "source": [
    "## Build CSV file with paths to dataset candidates"
   ],
   "metadata": {
    "collapsed": false
   }
  },
  {
   "cell_type": "code",
   "execution_count": 37,
   "outputs": [],
   "source": [
    "from timeeval import DatasetManager\n",
    "\n",
    "# adapt paths to your local setup!\n",
    "paths = [\n",
    "    Path(\"../../data/benchmark-data/data-processed\").resolve(),\n",
    "    Path(\"../../data/univariate-anomaly-test-cases\").resolve(),\n",
    "]"
   ],
   "metadata": {
    "collapsed": false,
    "ExecuteTime": {
     "end_time": "2023-09-01T12:02:55.230093599Z",
     "start_time": "2023-09-01T12:02:55.181245867Z"
    }
   }
  },
  {
   "cell_type": "code",
   "execution_count": 38,
   "outputs": [],
   "source": [
    "dfs = []\n",
    "for path in paths:\n",
    "    dmgr = DatasetManager(path, create_if_missing=False)\n",
    "    df_tmp = dmgr.df().reset_index()[[\"collection_name\", \"dataset_name\", \"test_path\"]].copy()\n",
    "    df_tmp[\"test_path\"] = df_tmp[\"test_path\"].apply(lambda x: path / x)\n",
    "    dfs.append(df_tmp)"
   ],
   "metadata": {
    "collapsed": false,
    "ExecuteTime": {
     "end_time": "2023-09-01T12:02:55.584181746Z",
     "start_time": "2023-09-01T12:02:55.430202310Z"
    }
   }
  },
  {
   "cell_type": "code",
   "execution_count": 42,
   "outputs": [
    {
     "data": {
      "text/plain": "    collection                 dataset  \\\n0     GutenTAG       poly-diff-count-5   \n1     GutenTAG      rw-combined-diff-2   \n2     GutenTAG        ecg-same-count-1   \n3     GutenTAG  ecg-type-pattern-shift   \n4     GutenTAG   sinus-position-middle   \n..         ...                     ...   \n90  WebscopeS5          A4Benchmark-34   \n91  WebscopeS5          A1Benchmark-34   \n92  WebscopeS5           A4Benchmark-2   \n93  WebscopeS5          A3Benchmark-54   \n94  WebscopeS5          A3Benchmark-18   \n\n                                         dataset_path  paper  \n0   /home/sebastian/Documents/projects/akita/data/...   True  \n1   /home/sebastian/Documents/projects/akita/data/...   True  \n2   /home/sebastian/Documents/projects/akita/data/...   True  \n3   /home/sebastian/Documents/projects/akita/data/...   True  \n4   /home/sebastian/Documents/projects/akita/data/...   True  \n..                                                ...    ...  \n90  /home/sebastian/Documents/projects/akita/data/...   True  \n91  /home/sebastian/Documents/projects/akita/data/...   True  \n92  /home/sebastian/Documents/projects/akita/data/...   True  \n93  /home/sebastian/Documents/projects/akita/data/...   True  \n94  /home/sebastian/Documents/projects/akita/data/...   True  \n\n[95 rows x 4 columns]",
      "text/html": "<div>\n<style scoped>\n    .dataframe tbody tr th:only-of-type {\n        vertical-align: middle;\n    }\n\n    .dataframe tbody tr th {\n        vertical-align: top;\n    }\n\n    .dataframe thead th {\n        text-align: right;\n    }\n</style>\n<table border=\"1\" class=\"dataframe\">\n  <thead>\n    <tr style=\"text-align: right;\">\n      <th></th>\n      <th>collection</th>\n      <th>dataset</th>\n      <th>dataset_path</th>\n      <th>paper</th>\n    </tr>\n  </thead>\n  <tbody>\n    <tr>\n      <th>0</th>\n      <td>GutenTAG</td>\n      <td>poly-diff-count-5</td>\n      <td>/home/sebastian/Documents/projects/akita/data/...</td>\n      <td>True</td>\n    </tr>\n    <tr>\n      <th>1</th>\n      <td>GutenTAG</td>\n      <td>rw-combined-diff-2</td>\n      <td>/home/sebastian/Documents/projects/akita/data/...</td>\n      <td>True</td>\n    </tr>\n    <tr>\n      <th>2</th>\n      <td>GutenTAG</td>\n      <td>ecg-same-count-1</td>\n      <td>/home/sebastian/Documents/projects/akita/data/...</td>\n      <td>True</td>\n    </tr>\n    <tr>\n      <th>3</th>\n      <td>GutenTAG</td>\n      <td>ecg-type-pattern-shift</td>\n      <td>/home/sebastian/Documents/projects/akita/data/...</td>\n      <td>True</td>\n    </tr>\n    <tr>\n      <th>4</th>\n      <td>GutenTAG</td>\n      <td>sinus-position-middle</td>\n      <td>/home/sebastian/Documents/projects/akita/data/...</td>\n      <td>True</td>\n    </tr>\n    <tr>\n      <th>...</th>\n      <td>...</td>\n      <td>...</td>\n      <td>...</td>\n      <td>...</td>\n    </tr>\n    <tr>\n      <th>90</th>\n      <td>WebscopeS5</td>\n      <td>A4Benchmark-34</td>\n      <td>/home/sebastian/Documents/projects/akita/data/...</td>\n      <td>True</td>\n    </tr>\n    <tr>\n      <th>91</th>\n      <td>WebscopeS5</td>\n      <td>A1Benchmark-34</td>\n      <td>/home/sebastian/Documents/projects/akita/data/...</td>\n      <td>True</td>\n    </tr>\n    <tr>\n      <th>92</th>\n      <td>WebscopeS5</td>\n      <td>A4Benchmark-2</td>\n      <td>/home/sebastian/Documents/projects/akita/data/...</td>\n      <td>True</td>\n    </tr>\n    <tr>\n      <th>93</th>\n      <td>WebscopeS5</td>\n      <td>A3Benchmark-54</td>\n      <td>/home/sebastian/Documents/projects/akita/data/...</td>\n      <td>True</td>\n    </tr>\n    <tr>\n      <th>94</th>\n      <td>WebscopeS5</td>\n      <td>A3Benchmark-18</td>\n      <td>/home/sebastian/Documents/projects/akita/data/...</td>\n      <td>True</td>\n    </tr>\n  </tbody>\n</table>\n<p>95 rows × 4 columns</p>\n</div>"
     },
     "execution_count": 42,
     "metadata": {},
     "output_type": "execute_result"
    }
   ],
   "source": [
    "df_dataset_paths = pd.concat(dfs, ignore_index=True)\n",
    "mask = df_dataset_paths[\"collection_name\"] == \"univariate-anomaly-test-cases\"\n",
    "df_dataset_paths.loc[mask, \"collection_name\"] = \"GutenTAG\"\n",
    "df_dataset_paths.loc[mask, \"dataset_name\"] = df_dataset_paths.loc[mask, \"dataset_name\"].str.split(\".\").str[0]\n",
    "df_dataset_paths = df_dataset_paths.drop_duplicates()\n",
    "df_dataset_paths = pd.merge(df_candidates[[\"collection_name\", \"dataset_name\"]], df_dataset_paths, on=[\"collection_name\", \"dataset_name\"], how=\"left\")\n",
    "df_dataset_paths = df_dataset_paths.rename(columns={\n",
    "    \"collection_name\": \"collection\",\n",
    "    \"dataset_name\": \"dataset\",\n",
    "    \"test_path\": \"dataset_path\"\n",
    "})\n",
    "df_dataset_paths[\"paper\"] = True\n",
    "df_dataset_paths.to_csv(\"autotsad-dataset-paths-sebastian-laptop.csv\", index=False)\n",
    "df_dataset_paths"
   ],
   "metadata": {
    "collapsed": false,
    "ExecuteTime": {
     "end_time": "2023-09-01T12:14:08.312058215Z",
     "start_time": "2023-09-01T12:14:08.259465165Z"
    }
   }
  },
  {
   "cell_type": "code",
   "execution_count": null,
   "outputs": [],
   "source": [],
   "metadata": {
    "collapsed": false
   }
  }
 ],
 "metadata": {
  "kernelspec": {
   "display_name": "Python 3 (ipykernel)",
   "language": "python",
   "name": "python3"
  },
  "language_info": {
   "codemirror_mode": {
    "name": "ipython",
    "version": 3
   },
   "file_extension": ".py",
   "mimetype": "text/x-python",
   "name": "python",
   "nbconvert_exporter": "python",
   "pygments_lexer": "ipython3",
   "version": "3.8.15"
  }
 },
 "nbformat": 4,
 "nbformat_minor": 1
}
